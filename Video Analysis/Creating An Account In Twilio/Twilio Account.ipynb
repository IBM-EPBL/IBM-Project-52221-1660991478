{
  "nbformat": 4,
  "nbformat_minor": 0,
  "metadata": {
    "colab": {
      "provenance": []
    },
    "kernelspec": {
      "name": "python3",
      "display_name": "Python 3"
    },
    "language_info": {
      "name": "python"
    }
  },
  "cells": [
    {
      "cell_type": "markdown",
      "source": [
        "#Twilio Account"
      ],
      "metadata": {
        "id": "QzVeBUfGwne-"
      }
    },
    {
      "cell_type": "markdown",
      "source": [
        "account_sid = 'ACafcfa36e50be6d94185df81fded49a84'\n",
        "\n",
        "auth_token = '6225f4e30e73c2dbf740b3de1094485f'\n",
        "\n",
        "client = Client(account_sid, auth_token)\n",
        "\n",
        "message = client.messages \\\n",
        "\n",
        "    .create(\n",
        "        \n",
        "         body='Forest fire is detected , stay alert',\n",
        "\n",
        "         from_='+18318512346',\n",
        "\n",
        "         to='+917358218701'\n",
        "         \n",
        "     )\n",
        "\n",
        "print(message.sid)"
      ],
      "metadata": {
        "id": "Q3k-FhR7xNhC"
      }
    }
  ]
}
